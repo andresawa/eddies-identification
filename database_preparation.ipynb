{
 "cells": [
  {
   "cell_type": "markdown",
   "id": "001055a7-c3fc-483a-bf8d-2168821288d6",
   "metadata": {},
   "source": [
    "# Subseting of the META3.1 database\n",
    "***\n",
    "**Author:** [Andrés Piñango](https://github.com/andresawa/)  \n",
    "Laboratório de Estudos dos Oceanos e Clima – LEOC, Instituto de Oceanografia, Universidade Federal do Rio Grande.  \n",
    "email: andreseloy@furg.br  \n",
    "**Last change:** 12/10/2021\n",
    "***\n",
    "### Import Libraries"
   ]
  },
  {
   "cell_type": "code",
   "execution_count": null,
   "id": "a83e2d73-9d65-491b-914a-77f9b4268ef8",
   "metadata": {},
   "outputs": [],
   "source": [
    "import numpy as np\n",
    "import xarray as xr"
   ]
  },
  {
   "cell_type": "markdown",
   "id": "e16c70be-fea9-4119-8a63-a666494290f6",
   "metadata": {},
   "source": [
    "### Define the spatial and temporal limits of the data and the unwanted variables "
   ]
  },
  {
   "cell_type": "code",
   "execution_count": null,
   "id": "493d8125-9016-471f-bae5-c27cd7f4ff84",
   "metadata": {},
   "outputs": [],
   "source": [
    "# Limits\n",
    "lon_min, lon_max, lat_min, lat_max, time_min, time_max = -50+360, 20, -40, -15, np.datetime64(\"2006-10-01\"), np.datetime64(\"2011-10-31\")\n",
    "\n",
    "# Define the unwanted variables\n",
    "unwanted_vars = [\"amplitude\", \n",
    "                 \"cost_association\", \n",
    "                 \"effective_contour_height\", \n",
    "                 \"effective_contour_shape_error\",\n",
    "                 \"inner_contour_height\", \n",
    "                 \"latitude_max\", \n",
    "                 \"longitude_max\", \n",
    "                 \"num_contours\", \n",
    "                 \"num_point_e\", \n",
    "                 \"num_point_s\", \n",
    "                 \"observation_flag\", \n",
    "                 \"speed_contour_height\", \n",
    "                 \"speed_contour_shape_error\", \n",
    "                 \"uavg_profile\", \n",
    "                 \"observation_number\", \n",
    "                 \"speed_contour_latitude\", \n",
    "                 \"speed_contour_longitude\", \n",
    "                 \"speed_area\", \n",
    "                 \"speed_average\", \n",
    "                 \"speed_radius\"]"
   ]
  },
  {
   "cell_type": "markdown",
   "id": "fbc13b11-0fdd-4715-806c-e49edfb82c4b",
   "metadata": {},
   "source": [
    "### Filter the cyclonic eddies and save to a new file"
   ]
  },
  {
   "cell_type": "code",
   "execution_count": null,
   "id": "989b8e1a-56ff-4d06-9f25-9ffcecedcf83",
   "metadata": {},
   "outputs": [],
   "source": [
    "# Load the cyclonic eddies and subset using the limits (latitude and time)\n",
    "cyc = xr.open_dataset(\"/mnt/storage/Downloads/AVISO/META3.1exp_DT_allsat/META3.1exp_DT_allsat_Cyclonic_long_19930101_20200307.nc\")\n",
    "cyc_subset = cyc.sel(obs = \n",
    "                     (cyc.latitude >= lat_min) & \n",
    "                     (cyc.latitude <= lat_max) &  \n",
    "                     (cyc.time >= time_min) & \n",
    "                     (cyc.time <= time_max) &\n",
    "                     ((cyc.longitude >= lon_min) | (cyc.longitude <= lon_max))\n",
    "                    )\n",
    "\n",
    "# Drop the unwanted variables\n",
    "cyc_clean = cyc_subset.drop_vars(unwanted_vars)\n",
    "\n",
    "# Save the new file\n",
    "cyc_clean.to_netcdf(\"~/META3_1_cyclonic.nc\", encoding = {\"effective_contour_longitude\": {\"zlib\": True, \"chunksizes\": (16000, 50)}, \"effective_contour_latitude\": {\"zlib\": True, \"chunksizes\": (16000, 50)}})"
   ]
  },
  {
   "cell_type": "markdown",
   "id": "d619a38b-f97d-4cdf-a197-f4d7fcd8cfdd",
   "metadata": {},
   "source": [
    "### Filter the anticyclonic eddies and save to a new file"
   ]
  },
  {
   "cell_type": "code",
   "execution_count": null,
   "id": "23a15c58-1808-4f92-bcbb-036d17ff1789",
   "metadata": {},
   "outputs": [],
   "source": [
    "# Load the cyclonic eddies and subset using the limits (latitude and time)\n",
    "acyc = xr.open_dataset(\"/mnt/storage/Downloads/AVISO/META3.1exp_DT_allsat/META3.1exp_DT_allsat_Anticyclonic_long_19930101_20200307.nc\")\n",
    "acyc_subset = acyc.sel(obs = \n",
    "                     (acyc.latitude >= lat_min) & \n",
    "                     (acyc.latitude <= lat_max) &  \n",
    "                     (acyc.time >= time_min) & \n",
    "                     (acyc.time <= time_max) &\n",
    "                     ((acyc.longitude >= lon_min) | (acyc.longitude <= lon_max))\n",
    "                    )\n",
    "\n",
    "# Drop the unwanted variables\n",
    "acyc_clean = acyc_subset.drop_vars(unwanted_vars)\n",
    "\n",
    "# Save the new file\n",
    "acyc_clean.to_netcdf(\"~/META3_1_anticyclonic.nc\", encoding = {\"effective_contour_longitude\": {\"zlib\": True, \"chunksizes\": (16000, 50)}, \"effective_contour_latitude\": {\"zlib\": True, \"chunksizes\": (16000, 50)}})"
   ]
  }
 ],
 "metadata": {
  "kernelspec": {
   "display_name": "Python 3 (ipykernel)",
   "language": "python",
   "name": "python3"
  },
  "language_info": {
   "codemirror_mode": {
    "name": "ipython",
    "version": 3
   },
   "file_extension": ".py",
   "mimetype": "text/x-python",
   "name": "python",
   "nbconvert_exporter": "python",
   "pygments_lexer": "ipython3",
   "version": "3.9.7"
  }
 },
 "nbformat": 4,
 "nbformat_minor": 5
}
