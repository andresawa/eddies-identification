{
 "cells": [
  {
   "cell_type": "markdown",
   "id": "6cd024b7-80b4-42db-aa7a-c6ee5bc94acb",
   "metadata": {
    "tags": []
   },
   "source": [
    "# Eddies identification in oceanographic stations using geospatial analisys\n",
    "***\n",
    "**Author:** [Andrés Piñango](https://github.com/andresawa/)  \n",
    "Laboratório de Estudos dos Oceanos e Clima – LEOC, Instituto de Oceanografia, Universidade Federal do Rio Grande.  \n",
    "email: andreseloy@furg.br  \n",
    "**Last change:** 12/10/2021\n",
    "***"
   ]
  },
  {
   "cell_type": "markdown",
   "id": "5f53fabe-7996-4f9b-bbc1-f0792dd39c26",
   "metadata": {
    "tags": []
   },
   "source": [
    "## **Part 1: Processing**\n",
    "### Import libraries"
   ]
  },
  {
   "cell_type": "code",
   "execution_count": null,
   "id": "f5cd7332-394c-469b-a24b-d4e796819299",
   "metadata": {},
   "outputs": [],
   "source": [
    "import numpy as np\n",
    "import pandas as pd\n",
    "import xarray as xr\n",
    "import geopandas as gpd\n",
    "import cartopy.crs as ccrs\n",
    "import matplotlib.pyplot as plt\n",
    "from shapely.geometry import Polygon\n",
    "from shapely.geometry import Point"
   ]
  },
  {
   "cell_type": "markdown",
   "id": "08bad001-b054-4e75-be2b-41209990c1d8",
   "metadata": {},
   "source": [
    "### Define the temporal and geographic limits"
   ]
  },
  {
   "cell_type": "code",
   "execution_count": null,
   "id": "2de58aa8-0c0a-4609-822f-a3076a435561",
   "metadata": {},
   "outputs": [],
   "source": [
    "lon_min, lon_max, lat_min, lat_max, time_min, time_max = -40, 17, -31, -19, np.datetime64(\"2009-10-24\"), np.datetime64(\"2009-12-20\")"
   ]
  },
  {
   "cell_type": "markdown",
   "id": "46f17238-7c17-40b7-a3a7-978b4e4bb0cb",
   "metadata": {},
   "source": [
    "### Load the eddies database (META3.1exp) and subset by position/time"
   ]
  },
  {
   "cell_type": "code",
   "execution_count": null,
   "id": "c8a1fbbb-ca23-4081-a82d-81d86b9bc78e",
   "metadata": {},
   "outputs": [],
   "source": [
    "# Cyclonic eddies\n",
    "# Load the eddies and subset using the limits (latitude and time)\n",
    "cyc = xr.open_dataset(\"META3_1_cyclonic.nc\")\n",
    "cyc_subset = cyc.sel(obs = \n",
    "                     (cyc.latitude >= lat_min) & \n",
    "                     (cyc.latitude <= lat_max) & \n",
    "                     (cyc.time >= time_min) & \n",
    "                     (cyc.time <= time_max)\n",
    "                    )\n",
    "\n",
    "# Transform the longitudes > 180 to negative values (change coordinates from [0 ~ 360] to [-180 ~ 180])\n",
    "cyc_subset[\"longitude\"] = (cyc_subset.longitude + 180) % 360 - 180\n",
    "\n",
    "# Filter eddies by longitude\n",
    "cyc_filter = cyc_subset.sel(obs = \n",
    "                            (cyc_subset.longitude >= lon_min) & \n",
    "                            (cyc_subset.longitude <= lon_max)  \n",
    "                           )"
   ]
  },
  {
   "cell_type": "code",
   "execution_count": null,
   "id": "2490cb33-0577-4604-ae39-c4d73cc4cb12",
   "metadata": {},
   "outputs": [],
   "source": [
    "# Anticyclonic eddies\n",
    "# Load the eddies and subset using the limits (latitude and time)\n",
    "acyc = xr.open_dataset(\"META3_1_anticyclonic.nc\")\n",
    "acyc_subset = acyc.sel(obs = \n",
    "                       (acyc.latitude >= lat_min) & \n",
    "                       (acyc.latitude <= lat_max) & \n",
    "                       (acyc.time >= time_min) & \n",
    "                       (acyc.time <= time_max)\n",
    "                      )\n",
    "\n",
    "# Transform the longitudes > 180 to negative values (change coordinates from [0 ~ 360] to [-180 ~ 180])\n",
    "acyc_subset[\"longitude\"] = (acyc_subset.longitude + 180) % 360 - 180\n",
    "\n",
    "# Filter eddies by longitude\n",
    "acyc_filter = acyc_subset.sel(obs = \n",
    "                              (acyc_subset.longitude >= lon_min) & \n",
    "                              (acyc_subset.longitude <= lon_max) \n",
    "                             )"
   ]
  },
  {
   "cell_type": "markdown",
   "id": "7fb2587d-f322-421e-ad87-6d5e2c8d472e",
   "metadata": {},
   "source": [
    "### Generate eddies geometries from the effective contour data in the META3.1exp database"
   ]
  },
  {
   "cell_type": "code",
   "execution_count": null,
   "id": "781477b2-22e3-4698-895e-fc8a100c66ae",
   "metadata": {},
   "outputs": [],
   "source": [
    "# Cyclonic eddies\n",
    "cyc_shape_lat = cyc_filter.effective_contour_latitude.data\n",
    "cyc_shape_lon = (cyc_filter.effective_contour_longitude.data + 180) % 360 - 180\n",
    "cyc_geometry = []\n",
    "\n",
    "for x in range(len(cyc_shape_lat)):\n",
    "    cyc_geometry.append(\n",
    "        Polygon(\n",
    "            zip(cyc_shape_lon[x], cyc_shape_lat[x])\n",
    "        ))"
   ]
  },
  {
   "cell_type": "code",
   "execution_count": null,
   "id": "1b496775-a4e8-454c-acf3-ae256a5661ab",
   "metadata": {},
   "outputs": [],
   "source": [
    "# Anticyclonic eddies\n",
    "acyc_shape_lat = acyc_filter.effective_contour_latitude.data\n",
    "acyc_shape_lon = (acyc_filter.effective_contour_longitude.data + 180) % 360 - 180\n",
    "acyc_geometry = []\n",
    "\n",
    "for x in range(acyc_shape_lat.shape[0]):\n",
    "    acyc_geometry.append(\n",
    "        Polygon(\n",
    "            zip(acyc_shape_lon[x], acyc_shape_lat[x])\n",
    "        ))"
   ]
  },
  {
   "cell_type": "markdown",
   "id": "6203d172-a2c6-484a-b49f-f41dc0e1208d",
   "metadata": {},
   "source": [
    "### Create the geodataframes (gdf) for the eddies"
   ]
  },
  {
   "cell_type": "code",
   "execution_count": null,
   "id": "fa1e221a-bb91-4f16-aa07-d5d6def6f14a",
   "metadata": {},
   "outputs": [],
   "source": [
    "# Cyclonic eddies\n",
    "cyc_dic = {\"track\": cyc_filter.track,\n",
    "       \"time\": cyc_filter.time,\n",
    "       \"longitude\": cyc_filter.longitude,\n",
    "       \"latitude\": cyc_filter.latitude,\n",
    "       \"area\": cyc_filter.effective_area / 1000000, # 1000000 convert m² to km²\n",
    "       \"radius\": cyc_filter.effective_radius / 1000, # 1000 convert m to km\n",
    "       \"geometry\": cyc_geometry\n",
    "      }\n",
    "\n",
    "cyc_gdf = gpd.GeoDataFrame(cyc_dic, crs=\"EPSG:4326\")"
   ]
  },
  {
   "cell_type": "code",
   "execution_count": null,
   "id": "130bb1f2-d5c6-4698-8b82-1bab3e59a838",
   "metadata": {},
   "outputs": [],
   "source": [
    "# Anticyclonic eddies\n",
    "acyc_dic = {\"track\": acyc_filter.track,\n",
    "        \"time\": acyc_filter.time,\n",
    "        \"longitude\": acyc_filter.longitude,\n",
    "        \"latitude\": acyc_filter.latitude,\n",
    "        \"area\": acyc_filter.effective_area / 1000000,\n",
    "        \"radius\": acyc_filter.effective_radius / 1000,\n",
    "        \"geometry\": acyc_geometry\n",
    "       }\n",
    "\n",
    "acyc_gdf = gpd.GeoDataFrame(acyc_dic, crs = \"EPSG:4326\")"
   ]
  },
  {
   "cell_type": "markdown",
   "id": "25244420-c3b2-4ffd-b615-13f1c1a5dbf6",
   "metadata": {},
   "source": [
    "### Load the hydrographic stations position data for the TAI cruise and transform into a gdf"
   ]
  },
  {
   "cell_type": "code",
   "execution_count": null,
   "id": "36d016f4-e950-42cf-a8e9-f3a4fbc59243",
   "metadata": {},
   "outputs": [],
   "source": [
    "# Read the stations\n",
    "positions = pd.read_csv(\"Cruise.csv\")\n",
    "\n",
    "# Transform the time to the same format used in the eddies\n",
    "positions.Date = [np.datetime64(date, \"D\") for date in positions.Date]\n",
    "\n",
    "# Create the geometries from the point coordinates\n",
    "points_geometry = []\n",
    "for x in range(positions.shape[0]):\n",
    "    points_geometry.append(Point(positions.Longitude[x], positions.Latitude[x]))\n",
    "\n",
    "# Create the geodataframe\n",
    "stations_gdf = gpd.GeoDataFrame(positions, geometry = points_geometry, crs = \"EPSG:4326\")"
   ]
  },
  {
   "cell_type": "markdown",
   "id": "79c9a2b0-b2b9-4a4d-9877-43e49439011c",
   "metadata": {},
   "source": [
    "### Make a spatial join between the eddies gdf and the cruise gdf and filter by date"
   ]
  },
  {
   "cell_type": "code",
   "execution_count": null,
   "id": "3d17f3e8-c6e4-4f56-b35c-8dd70a4be909",
   "metadata": {},
   "outputs": [],
   "source": [
    "# Cyclonic eddies\n",
    "# Make a inner join, selecting only those station where is an intersection with an eddie\n",
    "cyc_join = stations_gdf.sjoin(cyc_gdf, how = \"inner\")\n",
    "\n",
    "# Filter by date, this way only the stations inside a eddie are selected\n",
    "cyc_stations = cyc_join[cyc_join.Date == cyc_join.time]\n",
    "\n",
    "# Generate a list of the sampled eddies tracks\n",
    "cyc_unique = np.unique(cyc_stations.track)\n",
    "\n",
    "# Extract from the META3.1 database the tracks information and create a list\n",
    "cyc_tracks = [cyc.sel(obs = (cyc.track == x)) for x in cyc_unique]"
   ]
  },
  {
   "cell_type": "code",
   "execution_count": null,
   "id": "f6652d59-8038-4bd5-b1ee-da8a8b65feba",
   "metadata": {},
   "outputs": [],
   "source": [
    "# Anticyclonic eddies\n",
    "# Make a inner join, selecting only those station where is an intersection with an eddie\n",
    "acyc_join = stations_gdf.sjoin(acyc_gdf, how = \"inner\")\n",
    "\n",
    "# Filter by date, this way only the stations inside a eddie are selected\n",
    "acyc_stations = acyc_join[acyc_join.Date == acyc_join.time]\n",
    "\n",
    "# Generate a list of the sampled eddies tracks\n",
    "acyc_unique = np.unique(acyc_stations.track)\n",
    "\n",
    "# Extract from the META3.1 database the tracks information and create a list\n",
    "acyc_tracks = [acyc.sel(obs = (acyc.track == x)) for x in acyc_unique]"
   ]
  },
  {
   "cell_type": "markdown",
   "id": "3694d3d8-56c0-4b85-b1c0-ce5c337967d3",
   "metadata": {},
   "source": [
    "***\n",
    "## **Part 2: Results**\n",
    "### Stations from the TAI cruise inside an cyclonic eddie"
   ]
  },
  {
   "cell_type": "code",
   "execution_count": null,
   "id": "de725ec8-b1dd-4c38-9448-855b90c4d3a2",
   "metadata": {},
   "outputs": [],
   "source": [
    "cyc_stations"
   ]
  },
  {
   "cell_type": "markdown",
   "id": "95450068-b668-41ff-89ca-ecfe0d1b7532",
   "metadata": {},
   "source": [
    "### Stations from the TAI cruise inside an anticyclonic eddie"
   ]
  },
  {
   "cell_type": "code",
   "execution_count": null,
   "id": "125b712b-908b-480e-b093-46290aa8f3e6",
   "metadata": {},
   "outputs": [],
   "source": [
    "acyc_stations"
   ]
  },
  {
   "cell_type": "markdown",
   "id": "e4806f2f-4d6f-4d3f-9f5b-507e65a6b1d1",
   "metadata": {},
   "source": [
    "### Eddies sampled in the TAI cruise "
   ]
  },
  {
   "cell_type": "code",
   "execution_count": null,
   "id": "9f035c68-afc5-4d16-ac99-744000503225",
   "metadata": {},
   "outputs": [],
   "source": [
    "# Create the figure, define the projection and the geographic extention\n",
    "fig = plt.figure(figsize = (10,10), dpi = 300)\n",
    "ax = plt.axes(projection = ccrs.PlateCarree())\n",
    "ax.set_extent((-51, 21, -36, -14))\n",
    "\n",
    "# Load the coastline and the grids in the map \n",
    "ax.coastlines(resolution = '50m')\n",
    "ax.add_wms(\n",
    "    wms=\"https://www.gebco.net/data_and_products/gebco_web_services/web_map_service/mapserv?\",\n",
    "    layers=[\"GEBCO_LATEST\"],\n",
    "    alpha = 0.45\n",
    "    )\n",
    "gl = ax.gridlines(draw_labels = True, alpha = 0.1, color = \"white\")\n",
    "gl.top_labels = False\n",
    "gl.right_labels = False\n",
    "\n",
    "# Add the sampled cyclonic eddies\n",
    "cyc_filtered = cyc_gdf.loc[cyc_stations.index_right, :].drop_duplicates(\"track\")\n",
    "ax.add_geometries(cyc_filtered.geometry, crs = ccrs.PlateCarree(), facecolor='b', alpha=0.7)\n",
    "\n",
    "# Add the sampled anticyclonic eddies\n",
    "acyc_filtered = acyc_gdf.loc[acyc_stations.index_right, :].drop_duplicates(\"track\")\n",
    "ax.add_geometries(acyc_filtered.geometry, crs = ccrs.PlateCarree(), facecolor='r', alpha=0.7)\n",
    "\n",
    "# Add the cruise stations\n",
    "plt.plot(stations_gdf.Longitude, \n",
    "         stations_gdf.Latitude, \n",
    "         color = \"black\", \n",
    "         marker = '.', \n",
    "         transform = ccrs.PlateCarree(), \n",
    "         linewidth= 0,\n",
    "         alpha = 0.8,\n",
    "         markeredgewidth = 0)\n",
    " \n",
    "plt.show()"
   ]
  },
  {
   "cell_type": "markdown",
   "id": "380a4882-9355-4f42-b5eb-6b3ed3ef8e25",
   "metadata": {},
   "source": [
    "### Complete tracks of the eddies sampled in the TAI cruise "
   ]
  },
  {
   "cell_type": "code",
   "execution_count": null,
   "id": "54c99f78-54f3-4f76-b297-be143994f511",
   "metadata": {},
   "outputs": [],
   "source": [
    "# Create the figure, define the projection and the geographic extention\n",
    "fig = plt.figure(figsize = (10,10), dpi = 300)\n",
    "ax = plt.axes(projection = ccrs.PlateCarree())\n",
    "ax.set_extent((-51, 21, -36, -14))\n",
    "\n",
    "# Load the coastline and the grids in the map \n",
    "ax.coastlines(resolution = '50m')\n",
    "ax.add_wms(\n",
    "    wms=\"https://www.gebco.net/data_and_products/gebco_web_services/web_map_service/mapserv?\",\n",
    "    layers=[\"GEBCO_LATEST\"],\n",
    "    alpha = 0.45\n",
    "    )\n",
    "gl = ax.gridlines(draw_labels = True, alpha = 0.15, color = \"white\")\n",
    "gl.top_labels = False\n",
    "gl.right_labels = False\n",
    "\n",
    "# Create custom colors for the tracks\n",
    "reds = ['#96222C', '#A62630', '#B72A35', '#C82D3A', '#D23744', '#D54854', '#D95963'] # OrRd Colorbrewer\n",
    "blues = [\"#20285B\", \"#252E6A\", \"#2A3579\", \"#303B88\", \"#354097\", \"#3A47A6\", \"#404DB5\", \"#404DB5\", \"#5966C5\", \"#6873CA\"] # PuBu Colorbrewer\n",
    "\n",
    "# Add the cyclonic tracks\n",
    "for n in range(len(cyc_unique)):\n",
    "    plt.plot(cyc_tracks[n].longitude, \n",
    "             cyc_tracks[n].latitude,\n",
    "             color = list(reversed(blues))[n], \n",
    "             linewidth = 1.5, \n",
    "             transform = ccrs.PlateCarree()\n",
    "            )\n",
    "    plt.plot(cyc_tracks[n].longitude[0], \n",
    "             cyc_tracks[n].latitude[0],\n",
    "             color = list(reversed(blues))[n], \n",
    "             marker = 'o', \n",
    "             transform = ccrs.PlateCarree()\n",
    "            )\n",
    "    plt.text(cyc_tracks[n].longitude[0] + 3.5, \n",
    "             cyc_tracks[n].latitude[0], \n",
    "             cyc_unique[n],\n",
    "             fontsize = \"xx-small\",\n",
    "             color = \"b\",\n",
    "             horizontalalignment = 'right',\n",
    "             transform = ccrs.PlateCarree()\n",
    "            )\n",
    "\n",
    "# Add the anticyclonic tracks\n",
    "for n in range(len(acyc_unique)):\n",
    "    plt.plot(acyc_tracks[n].longitude, \n",
    "             acyc_tracks[n].latitude, \n",
    "             color = list(reversed(reds))[n], \n",
    "             linewidth = 1.5, \n",
    "             transform = ccrs.PlateCarree()\n",
    "            )\n",
    "    plt.plot(acyc_tracks[n].longitude[0], \n",
    "             acyc_tracks[n].latitude[0], \n",
    "             color = list(reversed(reds))[n], \n",
    "             marker = 'o', \n",
    "             transform = ccrs.PlateCarree()\n",
    "            )\n",
    "    plt.text(acyc_tracks[n].longitude[0] + 3.5, \n",
    "             acyc_tracks[n].latitude[0], \n",
    "             acyc_unique[n],\n",
    "             fontsize = \"xx-small\",\n",
    "             color = \"r\",\n",
    "             horizontalalignment = 'right',\n",
    "             transform = ccrs.PlateCarree()\n",
    "            )\n",
    "\n",
    "# Show the figure\n",
    "plt.show()"
   ]
  }
 ],
 "metadata": {
  "kernelspec": {
   "display_name": "Python 3 (ipykernel)",
   "language": "python",
   "name": "python3"
  },
  "language_info": {
   "codemirror_mode": {
    "name": "ipython",
    "version": 3
   },
   "file_extension": ".py",
   "mimetype": "text/x-python",
   "name": "python",
   "nbconvert_exporter": "python",
   "pygments_lexer": "ipython3",
   "version": "3.9.7"
  }
 },
 "nbformat": 4,
 "nbformat_minor": 5
}
